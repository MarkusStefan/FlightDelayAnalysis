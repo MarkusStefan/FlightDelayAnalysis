{
    "cells": [
        {
            "cell_type": "markdown",
            "metadata": {},
            "source": "\n"
        },
        {
            "cell_type": "code",
            "execution_count": null,
            "metadata": {},
            "outputs": [],
            "source": [
                "library(rmd2jupyter)\n",
                "rmd2jupyter(\"US_Flight_Analysis_Notebook.Rmd\")\n"
            ]
        },
        {
            "cell_type": "markdown",
            "metadata": {},
            "source": [
                "## Introduction\n",
                "\n",
                "This project is intended to demonstrate the skills acquired from the Google Data Analytics Certificate Course hosted on [Coursera](https://www.coursera.org/professional-certificates/google-data-analytics). The data set was retrieved from [Kaggle](%22https://www.kaggle.com/datasets/undersc0re/flight-delay-and-causes/metadata?select=Flight_delay.csv%22). Originally, the data set comes form the [U.S. Department of Transportation's (DOT) Bureau of Transportation Statistics (BTS)](https://www.bts.gov/).\n",
                "\n",
                "A description for the original column labels can be looked up by clicking the following [link](https://www.kaggle.com/datasets/undersc0re/flight-delay-and-causes?select=Flight_delay.csv).\n",
                "\n",
                "The attempt to analyze the data set in a Spreadsheet (Excel) failed due to its high volume. I personally decided to use R over SQL because R is more functional and also allows me to visualize the data.\n",
                "\n",
                "\\_\\_\\_\\_\\_\\_\\_\\_\\_\\_\\_\\_\\_\\_\\_\\_\\_\\_\\_\\_\\_\\_\\_\\_\\_\\_\\_\\_\\_\\_\\_\\_\\_\\_\\_\\_\\_\\_\\_\\_\\_\\_\\_\\_\\_\\_\\_\\_\\_\\_\\_\\_\\_\\_\\_\\_\\_\\_\\_\\_\\_\\_\\_\\_\\_\\_\\_\\_\\_\\_\\_\\_\\_\\_\\_\\_\\_\\_\\_\\_\\_\\_\\_\\_\\_\\_\\_\\_\\_\\_\\_\\_\\_\\_\\_\\_\\_\\_\\_\\_\\_\\_\\_\\_\\_\n",
                "\n",
                "## General Analysis\n",
                "\n",
                "### Data Preparation\n",
                "\n",
                "#### **1** Loading the required packages for the analysis\n",
                "\n",
                "If the packages are not installed yet, use the install.packages() function first!\n",
                "\n",
                "Note that the library plyr has to be loaded prior to dplyr to prevent any issues\n"
            ]
        },
        {
            "cell_type": "code",
            "execution_count": null,
            "metadata": {},
            "outputs": [],
            "source": [
                "library(tidyverse)\n",
                "library(janitor)\n",
                "detach(\"package:plyr\") # detaching both libraries ...\n",
                "detach(\"package:dplyr\")\n",
                "library(plyr) # ... and loading them again to make sure \n",
                "library(dplyr) # they are loaded in the right order\n",
                "library(readr)\n",
                "library(lubridate)\n",
                "library(ggcorrplot)\n",
                "library(RColorBrewer)\n",
                "library(sqldf)\n",
                "library(scales)\n",
                "library(ggpubr)\n",
                "library(ggcorrplot)\n"
            ]
        },
        {
            "cell_type": "markdown",
            "metadata": {},
            "source": [
                "------------------------------------------------------------------------\n",
                "\n",
                "#### **2** Opening the data set\n"
            ]
        },
        {
            "cell_type": "code",
            "execution_count": null,
            "metadata": {},
            "outputs": [],
            "source": [
                "# download data from \n",
                "# < http://127.0.0.1:56595/%22https://www.kaggle.com/datasets/undersc0re/flight-delay-\n",
                "# and-causes/metadata?select=Flight_delay.csv%22 >\n",
                "# and assign the path as a string to the local_path variable\n",
                "local_path <- \".../Flight_delay.csv\"\n",
                "flights_df <- read_csv(local_path)\n"
            ]
        },
        {
            "cell_type": "markdown",
            "metadata": {},
            "source": "\n"
        },
        {
            "cell_type": "code",
            "execution_count": null,
            "metadata": {},
            "outputs": [],
            "source": [
                "head(flights_df)\n",
                "\n"
            ]
        },
        {
            "cell_type": "markdown",
            "metadata": {},
            "source": [
                "------------------------------------------------------------------------\n",
                "\n",
                "#### **3** For the sake of visual appeal, I renamed the column names and converted them all to lowercase\n"
            ]
        },
        {
            "cell_type": "code",
            "execution_count": null,
            "metadata": {},
            "outputs": [],
            "source": [
                "names(flights_df) <- tolower(names(flights_df %>% \n",
                "                                     dplyr::rename(weekday = DayOfWeek,\n",
                "                                            dep_time = DepTime,\n",
                "                                           arr_time = ArrTime,\n",
                "                                           scheduled_arr_time = CRSArrTime, \n",
                "                                           uniq_carrier_code = UniqueCarrier,\n",
                "                                           flight_num = FlightNum,\n",
                "                                           tail_num = TailNum,\n",
                "                                           actual_flight_time_min = ActualElapsedTime,\n",
                "                                           estimate_flight_time_min = CRSElapsedTime,\n",
                "                                           air_time_min = AirTime,\n",
                "                                           arr_delay = ArrDelay,\n",
                "                                           dep_delay = DepDelay,\n",
                "                                           dep_airport_code = Origin,\n",
                "                                           dep_airport = Org_Airport,\n",
                "                                           dest_airport_code = Dest,\n",
                "                                           dest_airport = Dest_Airport,\n",
                "                                           distance_miles = Distance, \n",
                "                                           landing_to_gate_min = TaxiIn,\n",
                "                                           gate_to_takeoff_min =TaxiOut,\n",
                "                                           cancellation_cause_code = CancellationCode,\n",
                "                                           carrier_delay = CarrierDelay,\n",
                "                                           weather_delay = WeatherDelay,\n",
                "                                           nas_delay = NASDelay,\n",
                "                                           security_delay = SecurityDelay,\n",
                "                                           late_aircraft_delay = LateAircraftDelay)))\n"
            ]
        },
        {
            "cell_type": "markdown",
            "metadata": {},
            "source": "\n"
        },
        {
            "cell_type": "code",
            "execution_count": null,
            "metadata": {},
            "outputs": [],
            "source": [
                "colnames(flights_df)\n",
                "\n"
            ]
        },
        {
            "cell_type": "markdown",
            "metadata": {},
            "source": [
                "------------------------------------------------------------------------\n",
                "\n",
                "#### **4** Next, we remove columns that don't give us any information (due to a lack of data)\n"
            ]
        },
        {
            "cell_type": "code",
            "execution_count": null,
            "metadata": {},
            "outputs": [],
            "source": [
                "vector <- c()\n",
                "for (i in names(flights_df)) {\n",
                "  if (is_double(flights_df[[i]][2]) == TRUE) {\n",
                "    if (sum(flights_df[i]) == 0 ) {\n",
                "      vector <- append(vector, i)\n",
                "    }\n",
                "  }\n",
                "}\n"
            ]
        },
        {
            "cell_type": "markdown",
            "metadata": {},
            "source": "\n"
        },
        {
            "cell_type": "code",
            "execution_count": null,
            "metadata": {},
            "outputs": [],
            "source": [
                "cat(\"the vector contains columns:\", vector, sep=\"\\n-\")\n",
                "\n"
            ]
        },
        {
            "cell_type": "markdown",
            "metadata": {},
            "source": [
                "When we investigate the columns \"cancelled\" and \"diverted\", they only contain 0!\n",
                "\n",
                "Let's get rid of the two unnecessary columns (2 methods)\n"
            ]
        },
        {
            "cell_type": "code",
            "execution_count": null,
            "metadata": {},
            "outputs": [],
            "source": [
                "#method 1: selecting all except from elements of vector\n",
                "flights_df <- select(flights_df, -all_of(vector))\n"
            ]
        },
        {
            "cell_type": "markdown",
            "metadata": {},
            "source": "\n"
        },
        {
            "cell_type": "code",
            "execution_count": null,
            "metadata": {},
            "outputs": [],
            "source": [
                "#method 2: dropping useless columns\n",
                "flights_df <- flights_df[!(names(flights_df) %in% vector)]\n"
            ]
        },
        {
            "cell_type": "markdown",
            "metadata": {},
            "source": [
                "------------------------------------------------------------------------\n",
                "\n",
                "#### **5** Creating a new column that contains values of the total delay for each specific flight\n"
            ]
        },
        {
            "cell_type": "code",
            "execution_count": null,
            "metadata": {},
            "outputs": [],
            "source": [
                "flights_df <- mutate(flights_df,\n",
                "                     total_delay = (carrier_delay + weather_delay + nas_delay + \n",
                "                                    security_delay + late_aircraft_delay))\n"
            ]
        },
        {
            "cell_type": "markdown",
            "metadata": {},
            "source": [
                "------------------------------------------------------------------------\n",
                "\n",
                "#### **6** Creating a new column that contains the month each individual flight took place\n"
            ]
        },
        {
            "cell_type": "code",
            "execution_count": null,
            "metadata": {},
            "outputs": [],
            "source": [
                "library(lubridate)\n",
                "\n",
                "flights_df <- flights_df %>% mutate(month = month(dmy(date)))\n"
            ]
        },
        {
            "cell_type": "markdown",
            "metadata": {},
            "source": "\n"
        },
        {
            "cell_type": "code",
            "execution_count": null,
            "metadata": {},
            "outputs": [],
            "source": [
                "colnames(flights_df)\n",
                "\n"
            ]
        },
        {
            "cell_type": "markdown",
            "metadata": {},
            "source": [
                "------------------------------------------------------------------------\n",
                "\n",
                "#### **7** Determining, in which delay category each flight falls\n",
                "\n",
                "I classified the delay according to the Federal Aviation Administration (FAA) that considers an actual arrival less than 15 min after the scheduled arrival as not delayed, an arrival between 15 and 45 min after the scheduled arrival as \"medium delay\" and beyond 45 min as \"large delay\". Source: [Wikipedia](https://en.wikipedia.org/wiki/Flight_cancellation_and_delay#:~:text=A%20flight%20delay%20is%20when,all%20for%20a%20certain%20reason)\n"
            ]
        },
        {
            "cell_type": "code",
            "execution_count": null,
            "metadata": {},
            "outputs": [],
            "source": [
                "flights_df <- flights_df %>% \n",
                "  mutate(degree_delay =\n",
                "           ifelse(total_delay <= 15, \"no delay\", \n",
                "                  ifelse(total_delay >= 45, \"large delay\", \"medium delay\")))\n"
            ]
        },
        {
            "cell_type": "markdown",
            "metadata": {},
            "source": [
                "Having learned Python as a first programming language, I love to write loops, functions and conditional statements. In this case, it was a tedious mistake to apply Python practices to R:\n",
                "\n",
                "Technically, this can be done with a for-loop and conditional statements too; however, the computing time is awfully long with bigger data frames (30-40 min) since functions in R usually do not directly modify the data frame, but instead making copies. For every single iteration, R therefore makes a copy of the entire data frame! Fortunately, I found help on [Stack Overflow](https://stackoverflow.com/questions/22337394/dplyr-mutate-with-conditional-values).\n"
            ]
        },
        {
            "cell_type": "code",
            "execution_count": null,
            "metadata": {},
            "outputs": [],
            "source": [
                "vec <- c()\n",
                "for (t in flights_df$total_delay) {\n",
                "  if (t <= 15) {\n",
                "    vec <- append(vec, \"No delay\")\n",
                "  }\n",
                "  if (t >= 45) {\n",
                "    vec <- append(vec, \"Large delay\")\n",
                "  }\n",
                "  else {\n",
                "    vec <- append(vec, \"Medium delay\")\n",
                "  }\n",
                "}\n",
                "\n",
                "# Creating a new column from the vector containing \n",
                "# the categorization of each flight\n",
                "flights_df[\"delay_degree\"] <- vec\n"
            ]
        },
        {
            "cell_type": "markdown",
            "metadata": {},
            "source": [
                "------------------------------------------------------------------------\n",
                "\n",
                "#### **8** This step is mainly for the sake of practicing Data Manipulation\n",
                "\n",
                "(this case does not apply to the US since it is an EU law):\n",
                "\n",
                "creating a new column which states whether the passenger are potentially subject to compensation according to EU261 law. Passengers are eligible to claim up to 600€ as soon as the flight is delayed for 3 hours, and receive a full refund, if delayed for 5 hours or longer.\n"
            ]
        },
        {
            "cell_type": "code",
            "execution_count": null,
            "metadata": {},
            "outputs": [],
            "source": [
                "flights_df <- flights_df %>% \n",
                "  mutate(compensation =\n",
                "           ifelse(total_delay < 180, \"no compensation\", \n",
                "                  ifelse(total_delay >= 300, \"full refund\", \"up to 600€\")))\n"
            ]
        },
        {
            "cell_type": "markdown",
            "metadata": {},
            "source": [
                "As with the previous step, this code using the for-loop is highly inefficient. I still left it because it is technically correct viewing it from a logical perspective :)\n",
                "\n"
            ]
        },
        {
            "cell_type": "code",
            "execution_count": null,
            "metadata": {},
            "outputs": [],
            "source": [
                "vect <- c()\n",
                "for (c in flights_df$total_delay){\n",
                "  if (c < 180){\n",
                "    vect <- append(vect, \"no compensation\")\n",
                "  }\n",
                "  if (c >= 300){\n",
                "    vect <- append(vect, \"full refund\")\n",
                "  }\n",
                "  else {\n",
                "    vect <- append(vect, \"up to 600€\")\n",
                "  }\n",
                "}\n",
                "flights_df[\"compensation\"] <- vect\n"
            ]
        },
        {
            "cell_type": "markdown",
            "metadata": {},
            "source": [
                "Let's have a look at the structure of our final data frame:\n",
                "\n"
            ]
        },
        {
            "cell_type": "code",
            "execution_count": null,
            "metadata": {},
            "outputs": [],
            "source": [
                "glimpse(flights_df)\n",
                "\n"
            ]
        },
        {
            "cell_type": "markdown",
            "metadata": {},
            "source": [
                "------------------------------------------------------------------------\n",
                "\n",
                "## Data Exploration\n",
                "\n",
                "#### **9** Let's compute, which airline has the most delay time in the given time frame\n"
            ]
        },
        {
            "cell_type": "code",
            "execution_count": null,
            "metadata": {},
            "outputs": [],
            "source": [
                "flights_df %>% \n",
                "    dplyr::group_by(airline) %>% \n",
                "    drop_na() %>% \n",
                "    summarize(accumulated_delay = sum(total_delay)) %>% \n",
                "    arrange(-accumulated_delay)\n"
            ]
        },
        {
            "cell_type": "markdown",
            "metadata": {},
            "source": [
                "So far, so good. But simply concluding that Southwest Airline Co. is the least reliable Airline would be *false* since Southwest operates the most flights in the given time period.\n",
                "\n",
                "To demonstrate this, let's compute, and then display the number of flights of each individual airline.\n"
            ]
        },
        {
            "cell_type": "code",
            "execution_count": null,
            "metadata": {},
            "outputs": [],
            "source": [
                "as.data.frame(table(flights_df$airline)) %>% arrange(-Freq)\n",
                "\n"
            ]
        },
        {
            "cell_type": "markdown",
            "metadata": {},
            "source": [
                "**ggplot2** is an awesome and handy package for data visualization\n",
                "\n"
            ]
        },
        {
            "cell_type": "code",
            "execution_count": null,
            "metadata": {},
            "outputs": [],
            "source": [
                "ggplot(flights_df) +\n",
                "  geom_bar(aes(x = airline), fill = \"#00CC99\", color = \"#009933\", alpha = 0.7) +\n",
                "  theme(axis.text.x = element_text(angle = 35, hjust = 1)) + \n",
                "  labs(title = \"Number of Flights US Airlines\",\n",
                "        x = \"Airline\", y = \"Number of Flights\")\n"
            ]
        },
        {
            "cell_type": "markdown",
            "metadata": {},
            "source": "\n"
        },
        {
            "cell_type": "code",
            "execution_count": null,
            "metadata": {},
            "outputs": [],
            "source": [
                "ggplot(flights_df) +\n",
                "  geom_bar(aes(x = airline), fill = \"#00CC99\", color = \"#009933\", alpha = 0.7) +\n",
                "  theme(axis.text.x = element_text(angle = 35, hjust = 1)) + \n",
                "  labs(title = \"Number of Flights US Airlines\",\n",
                "        x = \"Airline\", y = \"Number of Flights\") +\n",
                "  facet_wrap(~month)\n"
            ]
        },
        {
            "cell_type": "markdown",
            "metadata": {},
            "source": [
                "A better measure would be the average (or mean) delay for each airline.\n",
                "\n"
            ]
        },
        {
            "cell_type": "code",
            "execution_count": null,
            "metadata": {},
            "outputs": [],
            "source": [
                "flights_df %>% \n",
                "  group_by(airline) %>% \n",
                "  drop_na() %>% \n",
                "  summarize(delay = mean(total_delay)) %>% \n",
                "  arrange(-delay)\n"
            ]
        },
        {
            "cell_type": "markdown",
            "metadata": {},
            "source": [
                "------------------------------------------------------------------------\n",
                "\n",
                "#### **10** Next, let's explore, what is the biggest driver for delay?\n"
            ]
        },
        {
            "cell_type": "code",
            "execution_count": null,
            "metadata": {},
            "outputs": [],
            "source": [
                "flights_df %>%  summarize(total_carrier = sum(carrier_delay),\n",
                "                          total_weather = sum(weather_delay),\n",
                "                          total_nas = sum(nas_delay),\n",
                "                          total_security = sum(security_delay),\n",
                "                          total_late_aircraft = sum(late_aircraft_delay)) %>% \n",
                "  pivot_longer(cols=1:5, names_to = 'Delay_Type', values_to = 'Accumulated_Delay') %>% \n",
                "  arrange(-Accumulated_Delay)\n"
            ]
        },
        {
            "cell_type": "markdown",
            "metadata": {},
            "source": [
                "Are we still getting the same ranting if we compare the accumulated delay of each delay type to the average delay?\n",
                "\n"
            ]
        },
        {
            "cell_type": "code",
            "execution_count": null,
            "metadata": {},
            "outputs": [],
            "source": [
                "df1 <- flights_df %>%  summarize(carrier = sum(carrier_delay),\n",
                "                          weather = sum(weather_delay),\n",
                "                          nas = sum(nas_delay),\n",
                "                          security = sum(security_delay),\n",
                "                          late_aircraft = sum(late_aircraft_delay)) %>% \n",
                "  pivot_longer(cols=1:5, names_to = 'Delay_Type', values_to = 'Accumulated_Delay') %>% \n",
                "  arrange(-Accumulated_Delay)\n",
                "\n",
                "df2 <- flights_df %>% summarize(carrier = mean(carrier_delay),\n",
                "                      weather = mean(weather_delay),\n",
                "                      nas = mean(nas_delay),\n",
                "                      security = mean(security_delay),\n",
                "                      late_aircraft = mean(late_aircraft_delay)) %>% \n",
                "  pivot_longer(cols=1:5, names_to = 'Delay_Type', values_to = 'Average_Delay') %>% \n",
                "  arrange(-Average_Delay)\n",
                "\n",
                "#inner join of both data frames by the primary key 'Delay_Type'\n",
                "merge(df1, df2) %>% arrange(-Average_Delay) \n"
            ]
        },
        {
            "cell_type": "markdown",
            "metadata": {},
            "source": "\n"
        },
        {
            "cell_type": "code",
            "execution_count": null,
            "metadata": {},
            "outputs": [],
            "source": [
                "merge(df1, df2) %>% \n",
                "  arrange(-Average_Delay) %>%  \n",
                "  pivot_longer(cols = c(\"Accumulated_Delay\", \"Average_Delay\"), \n",
                "               names_to =\"Method\", values_to = \"Value\") %>% \n",
                "  ggplot() + \n",
                "  geom_bar(aes(x = reorder(Delay_Type, -Value), y = Value, fill = Delay_Type), \n",
                "           color = \"dark grey\", alpha = 0.9, stat=\"identity\", position = \"dodge\") + \n",
                "  facet_wrap(~Method, scale = \"free\") + \n",
                "  scale_y_continuous(labels = format_format(big.mark = \",\", scientific = FALSE)) +\n",
                "  labs(x = \"Delay Type\", y = \"Delay (min)\", fill = \"\") +\n",
                "  theme(legend.position=\"top\", axis.text.x = element_blank(), axis.ticks.x = element_blank()) +\n",
                "  scale_fill_brewer(palette = 14)\n"
            ]
        },
        {
            "cell_type": "markdown",
            "metadata": {},
            "source": [
                "Let's come back to the average flight delay - How big are the differences in the average flight delay if we compare the 12 airlines to each other?\n",
                "\n"
            ]
        },
        {
            "cell_type": "code",
            "execution_count": null,
            "metadata": {},
            "outputs": [],
            "source": [
                "avg <- flights_df %>% \n",
                "  group_by(airline) %>% \n",
                "  drop_na() %>% \n",
                "  summarize(delay = mean(total_delay)) %>% \n",
                "  arrange(-delay)\n",
                "\n",
                "avg\n"
            ]
        },
        {
            "cell_type": "markdown",
            "metadata": {},
            "source": [
                "Let's visualize the code by using another graph!\n",
                "\n"
            ]
        },
        {
            "cell_type": "code",
            "execution_count": null,
            "metadata": {},
            "outputs": [],
            "source": [
                "startdate <-  min(flights_df$date)\n",
                "enddate <-  max(flights_df$date)\n",
                "\n",
                "ggplot(data=avg) +\n",
                "  geom_bar(aes(x = stats::reorder(airline, -delay), y = delay, fill = airline), \n",
                "           stat = \"identity\", width = 0.6) +\n",
                "  labs(title = \"Average Delay per Airline\", subtitle = paste(\"From\", startdate, \"to\", enddate),\n",
                "       caption = \"by Markus Köfler\", x = \"Airlines\", y = \"Average Delay (min)\") +\n",
                "  theme(axis.text.x = element_blank()) + \n",
                "  theme(axis.text.x = element_text(angle = 45, hjust = 1)) \n"
            ]
        },
        {
            "cell_type": "markdown",
            "metadata": {},
            "source": [
                "Or displaying the average delay of Airlines for each month - maybe we can get even better insights from the data?!\n",
                "\n"
            ]
        },
        {
            "cell_type": "code",
            "execution_count": null,
            "metadata": {},
            "outputs": [],
            "source": [
                "ag <- flights_df %>% \n",
                "  group_by(airline, month) %>% \n",
                "  drop_na() %>% \n",
                "  summarize(delay = mean(total_delay)) \n",
                "\n",
                "\n",
                "ggplot(data=ag) +\n",
                "  geom_bar(aes(x = reorder(airline, -delay), y = delay, fill = airline), \n",
                "           stat = \"identity\", width = 0.6) +\n",
                "  labs(title = \"Average Delay per Airline\", subtitle = paste(\"From\", startdate, \"to\", enddate),\n",
                "       caption = \"by Markus Köfler\", x = \"Airlines\", y = \"Average Delay (min)\") +\n",
                "  theme(axis.text.x = element_blank()) + \n",
                "  theme(axis.text.x = element_text(angle = 70, hjust = 1)) +\n",
                "  facet_wrap(~month)\n",
                "  \n"
            ]
        },
        {
            "cell_type": "markdown",
            "metadata": {},
            "source": [
                "We can see that Alaska Airlines average delay for June is 0 min. Can Alaska Airlines really boast that none of their flights was delayed in June or are there just no recorded flights?\n",
                "\n"
            ]
        },
        {
            "cell_type": "code",
            "execution_count": null,
            "metadata": {},
            "outputs": [],
            "source": [
                "nrow(filter(flights_df, airline==\"Alaska Airlines Inc.\" & month==6))\n",
                "\n"
            ]
        },
        {
            "cell_type": "markdown",
            "metadata": {},
            "source": [
                "As the output suggests, the returned tibble contains 0 rows, meaning that there is no data on Alaska Airline flights in June. Further research needs to be done with regards to why this is the case.\n",
                "\n",
                "------------------------------------------------------------------------\n",
                "\n",
                "\\####**12** The relationship between the total delay and the flight distance - can passengers expect a longer delay for longer travels? We can also add the correlation coefficients with p-values to the scatter plot\n"
            ]
        },
        {
            "cell_type": "code",
            "execution_count": null,
            "metadata": {},
            "outputs": [],
            "source": [
                "ggplot(flights_df) +\n",
                "  geom_jitter(aes(distance_miles, total_delay), alpha = 0.1, shape = \"o\", color = \"navy\") +\n",
                "  geom_smooth(aes(distance_miles, total_delay), color = \"red\", method = \"lm\") + \n",
                "  facet_wrap(~airline, scale = \"free\", shrink = FALSE) + #adjusted x- and y-axis \n",
                "  stat_cor(aes(distance_miles, total_delay), \n",
                "           color = \"red\", geom = \"label\", fill = \"transparent\") +\n",
                "  labs(title = \"Corellation between Flight Distance and Total Delay\", \n",
                "       subtitle = \"Individual Airlines\",\n",
                "       caption = \"by Markus Köfler\", x = \"Distance (miles)\", y = \"Delay (min)\") +\n",
                "  theme(axis.text.x = element_text(angle = 20, hjust = 1)) \n"
            ]
        },
        {
            "cell_type": "markdown",
            "metadata": {},
            "source": "\n"
        },
        {
            "cell_type": "code",
            "execution_count": null,
            "metadata": {},
            "outputs": [],
            "source": [
                "#relationship between delay and flight duration/ distance (do longer trips mean a longer expected delay?)\n",
                "\n",
                "ggplot(flights_df) +\n",
                "  geom_jitter(aes(distance_miles, total_delay), shape = \"+\", alpha = 0.9) +\n",
                "  geom_smooth(aes(distance_miles, total_delay), color = \"red\") + \n",
                "  labs(title = \"Overall Correlation between Flight Distance and Total Delay\", \n",
                "       subtitle = paste(\"Correlation:\",\n",
                "                        toString(cor(flights_df$distance_miles, flights_df$total_delay)), \n",
                "                        sep = \" \"))\n"
            ]
        },
        {
            "cell_type": "markdown",
            "metadata": {},
            "source": [
                "------------------------------------------------------------------------\n",
                "\n",
                "#### **12** Now lets find out what are the most popular arrival and departure airports\n"
            ]
        },
        {
            "cell_type": "code",
            "execution_count": null,
            "metadata": {},
            "outputs": [],
            "source": [
                "dep_airport_df <- dplyr::rename(as.data.frame(table(flights_df$dep_airport)) %>% \n",
                "  arrange(-Freq), dep_airport = Var1, departures = Freq)\n",
                "\n",
                "dest_airport_df <- dplyr::rename(as.data.frame(table(flights_df$dest_airport)) %>% \n",
                "  arrange(-Freq), dest_airport = Var1, arrivals = Freq)\n",
                "\n",
                "dep_dest_airports <- cbind(dep_airport_df, dest_airport_df)\n",
                "\n",
                "head(dep_dest_airports, n = 10)\n"
            ]
        },
        {
            "cell_type": "markdown",
            "metadata": {},
            "source": [
                "The created data frame tells us, what are the airports with the most (domestic) traffic. A tendency, that airports with the most departures also rank high when it comes to arrivals, is given. Let's investigate the correlation between the departure rank and the arrival rank:\n",
                "\n"
            ]
        },
        {
            "cell_type": "code",
            "execution_count": null,
            "metadata": {},
            "outputs": [],
            "source": [
                "len_of_df <- length(dep_dest_airports$dep_airport)\n",
                "\n",
                "# assigning integers from 1 to 260\n",
                "rank <- c(1:len_of_df) \n",
                "\n",
                "# adding ranking to each individual data frame\n",
                "dep_rank_df <- mutate(dplyr::rename(dep_airport_df, airport = dep_airport), rank_dep = rank)\n",
                "dest_rank_df <- mutate(dplyr::rename(dest_airport_df, airport = dest_airport), rank_dest = rank)\n",
                "\n",
                "#library(plyr)\n",
                "# joining the data frames based on a common key which is the column \"airport\" \n",
                "dep_dest_rank <- arrange(plyr::join(dep_rank_df, \n",
                "                                    dest_rank_df, type = \"full\", \n",
                "                                    by = \"airport\"), \n",
                "                         + rank_dep)\n",
                "\n",
                "top_n(dep_dest_rank, -10)\n"
            ]
        },
        {
            "cell_type": "markdown",
            "metadata": {},
            "source": [
                "Now that we have the ranking for departures and arrivals, we can compute the correlation. I used the 3 common [correlation methods](https://www.phdata.io/blog/data-science-stats-review/):\n",
                "\n",
                "-   Pearson =\\> linear relationship between two variables\n",
                "\n",
                "-   Kendall =\\> monotonic relationship (likelihood of two variables to move in one direction, but not necessarily in a constant manner)\n",
                "\n",
                "-   Spearman =\\> monotonic relationship (similar to Kendall method, but not as popular)\n"
            ]
        },
        {
            "cell_type": "code",
            "execution_count": null,
            "metadata": {},
            "outputs": [],
            "source": [
                "# computing the correlation\n",
                "# function which iterates through a vector containing\n",
                "# the 3 correlation methods used in data science\n",
                "cor_methods <- c(\"pearson\", \"kendall\", \"spearman\")\n",
                "\n",
                "for (cor_method in cor_methods) {\n",
                "     print(paste(cor_method, sep = \": \", \n",
                "                cor(dep_dest_rank$rank_dep, dep_dest_rank$rank_dest, method = cor_method)\n",
                "                )\n",
                "           )\n",
                "}\n"
            ]
        },
        {
            "cell_type": "markdown",
            "metadata": {},
            "source": [
                "Here is a much more sophisticated syntax. I did this to make my code more reproducible. Next time I want to compute the statistical correlation with all 3 methods, I simply call the function and pass in the arguments for the parameters var1 and var2.\n",
                "\n"
            ]
        },
        {
            "cell_type": "code",
            "execution_count": null,
            "metadata": {},
            "outputs": [],
            "source": [
                "cor_calculator <- function (method_vector = c(\"pearson\", \"kendall\", \"spearman\")\n",
                "                            , var1, var2) { \n",
                "  result <- c()\n",
                "  for (cor_method in method_vector) {\n",
                "    result <- append(result, paste(cor_method, sep = \": \", \n",
                "                cor(dep_dest_rank$rank_dep, dep_dest_rank$rank_dest, method = cor_method)))\n",
                "    }\n",
                "  return(result)\n",
                "}\n",
                "\n",
                "\n",
                "variable_1 <- dep_dest_rank$rank_dep\n",
                "variable_2 <- dep_dest_rank$rank_dest\n",
                "\n",
                "cor_calculator(var1 = variable_1, var2 = variable_2)\n"
            ]
        },
        {
            "cell_type": "markdown",
            "metadata": {},
            "source": [
                "------------------------------------------------------------------------\n",
                "\n",
                "#### **13** What are the most frequent routes flown in the US from January to June 2019?\n",
                "\n",
                "To answer this question, I combined the columns dep_airport and dest_airport to build a column which contains both departure airport as well as destination airport. This allows us to get unique flight routes.\n"
            ]
        },
        {
            "cell_type": "code",
            "execution_count": null,
            "metadata": {},
            "outputs": [],
            "source": [
                "flights_df[\"dep_dest_airports\"] <- paste(\"FROM:\", flights_df$dep_airport, \n",
                "                                         \"TO:\", flights_df$dest_airport, \n",
                "                                         sep = \" \")\n",
                "\n",
                "flights_df$dep_dest_airports[1:5]\n"
            ]
        },
        {
            "cell_type": "markdown",
            "metadata": {},
            "source": [
                "The next step is counting what unique flight route occurs the most in the newly created column. Finally, we can arrange the data frame in descending order.\n",
                "\n"
            ]
        },
        {
            "cell_type": "code",
            "execution_count": null,
            "metadata": {},
            "outputs": [],
            "source": [
                "routes_df <- as.data.frame(table(flights_df[\"dep_dest_airports\"])) %>% arrange(-Freq)\n",
                "\n",
                "# display the top 10 mosth frequent travel routes \n",
                "top_n(routes_df, 10)\n"
            ]
        },
        {
            "cell_type": "markdown",
            "metadata": {},
            "source": [
                "------------------------------------------------------------------------\n",
                "\n",
                "#### **14** At the end of the general analysis I always like to add a\n",
                "\n",
                "correlation matrix. The intention is to highlight possible relationships and trends between variables that have not been discovered yet.\n"
            ]
        },
        {
            "cell_type": "code",
            "execution_count": null,
            "metadata": {},
            "outputs": [],
            "source": [
                "#filtering for columns that are numeric only\n",
                "\n",
                "flights_numeric <- select_if(flights_df, is.numeric)\n",
                "\n",
                "# Computing correlation matrix\n",
                "cor_matrix <- round(cor(flights_numeric),3)\n",
                "\n",
                "# Visualizing and reordering correlation matrix\n",
                "ggcorrplot(cor_matrix, hc.order =FALSE, tl.cex = 8,\n",
                "           outline.color =\"#808080\", method = \"square\", colors = c(\"#FF007F\", \"white\", \"#0000FF\")) +\n",
                "  labs(title= \"Correlation Matrix\") +\n",
                "  theme(plot.title = element_text(size = 22, hjust = 1)) \n"
            ]
        },
        {
            "cell_type": "markdown",
            "metadata": {},
            "source": [
                "Based on den matrix, there is nothing outstanding to report.\n",
                "\n",
                "*Strongly positively* related are:\n",
                "\n",
                "-   flight distance (distance_miles) with the air time (air_time_min), the estimated flight time (estimate_flight_time_min) and the actual flight time (actual_flight_time_min)\n",
                "\n",
                "-   departure delay with the arrival delay\n",
                "\n",
                "-   the total delay (total_delay) with the departure delay (dep_delay) and the arrival delay (arr_delay)\n",
                "\n",
                "Optionally, we can compute the correlation matrix in numbers with p-values with the following code:\n"
            ]
        },
        {
            "cell_type": "code",
            "execution_count": null,
            "metadata": {},
            "outputs": [],
            "source": [
                "corrp.mat <- cor_pmat(flights_numeric)\n",
                "corrp.mat\n"
            ]
        },
        {
            "cell_type": "markdown",
            "metadata": {},
            "source": [
                "------------------------------------------------------------------------\n",
                "\n",
                "## The Business Task\n",
                "\n",
                "1)  A business consultancy company is sending their consultants to their customers within the US area (domestic flights).\n",
                "\n",
                "2)  The consultancy company is located in Chicago (IL)\n",
                "\n",
                "3)  Senior consultant Andrew needs to fly to a client located in Los Angeles. He passes his appointment to the HR team, which takes over responsibility for managing client meetings and travels for employees. HR manager Thomas asks for an analysis, what would be the best option to go from Chicago to Dallas.\n",
                "\n",
                "We start preparing the data frame first - we create a column with the flight routes. This time, we only use Airport codes which consist of 3 uppercase letters to make the the script more readible:\n"
            ]
        },
        {
            "cell_type": "code",
            "execution_count": null,
            "metadata": {},
            "outputs": [],
            "source": [
                "flights_df <- mutate(flights_df, \n",
                "                     route = paste(flights_df$dep_airport_code, \n",
                "                                 flights_df$dest_airport_code, \n",
                "                                 sep = \"-\"))\n",
                "\n",
                "flights_df$route[1:5]\n"
            ]
        },
        {
            "cell_type": "markdown",
            "metadata": {},
            "source": [
                "For finding the routes with the shortest average delay that can be expected (based on the data), I used SQL statements by using the library **sqldf**. It allows us to query the data frame in SQL-syntax style by passing in the SQL statement as a string.\n",
                "\n",
                "#### SQL query\n"
            ]
        },
        {
            "cell_type": "code",
            "execution_count": null,
            "metadata": {},
            "outputs": [],
            "source": [
                "sqldf(\"\n",
                "       SELECT \n",
                "          route,\n",
                "          airline,\n",
                "          avg(actual_flight_time_min) AS average_travel_time,\n",
                "          avg(total_delay) AS average_delay\n",
                "       \n",
                "       FROM\n",
                "          flights_df\n",
                "      \n",
                "      WHERE \n",
                "        route = 'ORD-LAX' OR route = 'MDW-LAX' \n",
                "      \n",
                "      GROUP BY \n",
                "          airline\n",
                "      \n",
                "      ORDER BY\n",
                "          average_delay ASC\n",
                "      \")\n",
                "     \n"
            ]
        },
        {
            "cell_type": "markdown",
            "metadata": {},
            "source": [
                "According to the results, the best option would be to book a flight from Chicago Midway (MDW) to LA International (LAX) in terms of expected reliability. The differences in average travel time is too insignificant and can be neglected.\n",
                "\n",
                "Next, a consultant, who has been negotiating with a client in Dallas (TX) needs to directly visit a nother customer in New York. There are three target airports in NY to choose from at the time. There is also the option to either leave from Dallas Fort-Worth or Dallas Love Fields. What is the best constellation of airports to choose from?\n"
            ]
        },
        {
            "cell_type": "code",
            "execution_count": null,
            "metadata": {},
            "outputs": [],
            "source": [
                "sqldf(\"\n",
                "      SELECT \n",
                "         airline,\n",
                "         route,\n",
                "         avg(actual_flight_time_min) AS average_travel_time,\n",
                "         avg(total_delay) AS average_delay\n",
                "     \n",
                "      FROM\n",
                "        flights_df\n",
                "     \n",
                "     WHERE \n",
                "         route = 'DFW-JFK' OR \n",
                "         route = 'DFW-LGA' OR \n",
                "         route = 'DFW-EWR' OR \n",
                "         route = 'DAL-JFK' OR\n",
                "         route = 'DAL-LGA' OR\n",
                "         route = 'DAL-EWR' \n",
                "    \n",
                "     GROUP BY \n",
                "         route \n",
                "    \n",
                "     ORDER BY \n",
                "         average_travel_time ASC\n",
                "       \") \n"
            ]
        },
        {
            "cell_type": "markdown",
            "metadata": {},
            "source": [
                "The results suggest that DFW has better connection to one of the popular NYC airports (since there are no other flights recorded from Dallas Love Fields). We assume that DFW has better flight schedules to NYC. When it comes to choosing an airport in NYC, we have to make a trade-off whether to accept a slightly higher average travel delay to have an overall shorter expected travel time.\n",
                "\n",
                "Just to be certain - we check if there are really no flights from DAL to any NYC airport in our data set.\n"
            ]
        },
        {
            "cell_type": "code",
            "execution_count": null,
            "metadata": {},
            "outputs": [],
            "source": [
                "sum((flights_df$dep_airport_code == \"DAL\" & flights_df$dest_airport_code == \"JFK\") |\n",
                "    (flights_df$dep_airport_code == \"DAL\" & flights_df$dest_airport_code == \"LGA\") |\n",
                "    (flights_df$dep_airport_code == \"DAL\" & flights_df$dest_airport_code == \"EWR\"))\n"
            ]
        },
        {
            "cell_type": "markdown",
            "metadata": {},
            "source": [
                "\n",
                "Indeed, we cannot find any flights from Dallas Love Fields to a NYC airport.\n"
            ]
        }
    ],
    "metadata": {
        "anaconda-cloud": "",
        "kernelspec": {
            "display_name": "R",
            "langauge": "R",
            "name": "ir"
        },
        "language_info": {
            "codemirror_mode": "r",
            "file_extension": ".r",
            "mimetype": "text/x-r-source",
            "name": "R",
            "pygments_lexer": "r",
            "version": "3.4.1"
        }
    },
    "nbformat": 4,
    "nbformat_minor": 1
}
